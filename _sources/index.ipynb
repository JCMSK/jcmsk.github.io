{
 "cells": [
  {
   "cell_type": "markdown",
   "id": "1538c921-8797-4805-a507-0a34921c91a4",
   "metadata": {},
   "source": [
    "# JC|MSK is now ORMIR!"
   ]
  },
  {
   "cell_type": "markdown",
   "id": "c275fcd3-36d9-4ca2-a9e5-9770913e4653",
   "metadata": {},
   "source": [
    "The Jupyter Community in Musculoskeletal Imaging Research is now called \n",
    "*Open and Reproducible Musculoskeletal Imaging Research (ORMIR)* Community \n",
    "\n",
    "Find our new website at [https://ormircommunity.github.io](https://ormircommunity.github.io/)!\n",
    "\n"
   ]
  },
  {
   "cell_type": "code",
   "execution_count": null,
   "id": "a418b0b6-061f-4e01-b13e-20f7e7efe593",
   "metadata": {},
   "outputs": [],
   "source": []
  }
 ],
 "metadata": {
  "kernelspec": {
   "display_name": "Python 3 (ipykernel)",
   "language": "python",
   "name": "python3"
  },
  "language_info": {
   "codemirror_mode": {
    "name": "ipython",
    "version": 3
   },
   "file_extension": ".py",
   "mimetype": "text/x-python",
   "name": "python",
   "nbconvert_exporter": "python",
   "pygments_lexer": "ipython3",
   "version": "3.9.7"
  },
  "widgets": {
   "application/vnd.jupyter.widget-state+json": {
    "state": {},
    "version_major": 2,
    "version_minor": 0
   }
  }
 },
 "nbformat": 4,
 "nbformat_minor": 5
}
